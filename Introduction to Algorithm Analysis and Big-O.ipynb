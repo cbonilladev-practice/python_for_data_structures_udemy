{
 "cells": [
  {
   "cell_type": "code",
   "execution_count": 3,
   "metadata": {},
   "outputs": [
    {
     "data": {
      "text/plain": [
       "6"
      ]
     },
     "execution_count": 3,
     "metadata": {},
     "output_type": "execute_result"
    }
   ],
   "source": [
    "def sum1(n):\n",
    "    final_sum = 0\n",
    "    \n",
    "    for x in range(n+1):\n",
    "        final_sum += x\n",
    "        \n",
    "    return final_sum\n",
    "\n",
    "sum1(3)"
   ]
  },
  {
   "cell_type": "code",
   "execution_count": 6,
   "metadata": {},
   "outputs": [],
   "source": [
    "def sum2(n):\n",
    "    return (n*(n+1))/2"
   ]
  },
  {
   "cell_type": "code",
   "execution_count": 7,
   "metadata": {},
   "outputs": [
    {
     "data": {
      "text/plain": [
       "6.0"
      ]
     },
     "execution_count": 7,
     "metadata": {},
     "output_type": "execute_result"
    }
   ],
   "source": [
    "sum2(3)"
   ]
  },
  {
   "cell_type": "code",
   "execution_count": 10,
   "metadata": {},
   "outputs": [
    {
     "name": "stdout",
     "output_type": "stream",
     "text": [
      "5.4 µs ± 407 ns per loop (mean ± std. dev. of 7 runs, 100000 loops each)\n"
     ]
    }
   ],
   "source": [
    "%timeit sum1(100)"
   ]
  },
  {
   "cell_type": "code",
   "execution_count": 11,
   "metadata": {},
   "outputs": [
    {
     "name": "stdout",
     "output_type": "stream",
     "text": [
      "174 ns ± 4.43 ns per loop (mean ± std. dev. of 7 runs, 10000000 loops each)\n"
     ]
    }
   ],
   "source": [
    "%timeit sum2(100)"
   ]
  },
  {
   "cell_type": "code",
   "execution_count": 12,
   "metadata": {},
   "outputs": [
    {
     "name": "stdout",
     "output_type": "stream",
     "text": [
      "1\n",
      "1\n",
      "2\n",
      "3\n",
      "4\n",
      "5\n",
      "Hello, Laverne.\n",
      "Hello, Laverne.\n",
      "Hello, Laverne.\n",
      "Hello, Laverne.\n",
      "Hello, Laverne.\n",
      "Hello, Laverne.\n",
      "Hello, Laverne.\n",
      "Hello, Laverne.\n",
      "Hello, Laverne.\n",
      "Hello, Laverne.\n"
     ]
    }
   ],
   "source": [
    "def complex_bigO(list):\n",
    "    print(list[0])\n",
    "    \n",
    "    midpoint = len(list)//2\n",
    "    \n",
    "    for val in list[:midpoint]:\n",
    "        print(val)\n",
    "        \n",
    "    for x in range(10):\n",
    "        print(\"Hello, Laverne.\")\n",
    "        \n",
    "complex_bigO([1,2,3,4,5,6,7,8,9,10])"
   ]
  },
  {
   "cell_type": "code",
   "execution_count": 13,
   "metadata": {},
   "outputs": [
    {
     "name": "stdout",
     "output_type": "stream",
     "text": [
      "1\n"
     ]
    }
   ],
   "source": [
    "def printFirst(n):\n",
    "    print(n[0])\n",
    "    \n",
    "printFirst([1,2,3,4,5])"
   ]
  },
  {
   "cell_type": "code",
   "execution_count": 17,
   "metadata": {},
   "outputs": [],
   "source": [
    "def matchOne(n, match):\n",
    "    for i in n:\n",
    "        if i == match:\n",
    "            return True\n",
    "    \n",
    "    return False\n",
    "\n",
    "list = [1,2,3,4,5]"
   ]
  },
  {
   "cell_type": "code",
   "execution_count": 18,
   "metadata": {},
   "outputs": [
    {
     "data": {
      "text/plain": [
       "True"
      ]
     },
     "execution_count": 18,
     "metadata": {},
     "output_type": "execute_result"
    }
   ],
   "source": [
    "matchOne(list, 1) ##Best Case"
   ]
  },
  {
   "cell_type": "code",
   "execution_count": 20,
   "metadata": {},
   "outputs": [
    {
     "data": {
      "text/plain": [
       "False"
      ]
     },
     "execution_count": 20,
     "metadata": {},
     "output_type": "execute_result"
    }
   ],
   "source": [
    "matchOne(list, 6) ##Worst Case"
   ]
  },
  {
   "cell_type": "code",
   "execution_count": 23,
   "metadata": {},
   "outputs": [
    {
     "name": "stdout",
     "output_type": "stream",
     "text": [
      "['Hello, Laverne.', 'Hello, Laverne.', 'Hello, Laverne.', 'Hello, Laverne.', 'Hello, Laverne.', 'Hello, Laverne.', 'Hello, Laverne.', 'Hello, Laverne.', 'Hello, Laverne.', 'Hello, Laverne.']\n"
     ]
    }
   ],
   "source": [
    "def createList(n):\n",
    "    newList = []\n",
    "    \n",
    "    for i in range(n):\n",
    "        newList.append(\"Hello, Laverne.\")\n",
    "        \n",
    "    return newList\n",
    "        \n",
    "print(createList(10)) ##Time Complexity = O(n) Space Complexity = O(n)"
   ]
  },
  {
   "cell_type": "code",
   "execution_count": 27,
   "metadata": {},
   "outputs": [
    {
     "name": "stdout",
     "output_type": "stream",
     "text": [
      "Hello, Laverne\n",
      "Hello, Laverne\n",
      "Hello, Laverne\n",
      "Hello, Laverne\n",
      "Hello, Laverne\n",
      "Hello, Laverne\n",
      "Hello, Laverne\n",
      "Hello, Laverne\n",
      "Hello, Laverne\n",
      "Hello, Laverne\n",
      "None\n"
     ]
    }
   ],
   "source": [
    "def printWords(n):\n",
    "    for x in range(10):\n",
    "        print(\"Hello, Laverne\")\n",
    "\n",
    "print(printWords(10)) ##Time Complexity = O(n) Space Complexity = 1"
   ]
  },
  {
   "cell_type": "code",
   "execution_count": null,
   "metadata": {},
   "outputs": [],
   "source": []
  }
 ],
 "metadata": {
  "kernelspec": {
   "display_name": "Python 3",
   "language": "python",
   "name": "python3"
  },
  "language_info": {
   "codemirror_mode": {
    "name": "ipython",
    "version": 3
   },
   "file_extension": ".py",
   "mimetype": "text/x-python",
   "name": "python",
   "nbconvert_exporter": "python",
   "pygments_lexer": "ipython3",
   "version": "3.7.3"
  }
 },
 "nbformat": 4,
 "nbformat_minor": 2
}
