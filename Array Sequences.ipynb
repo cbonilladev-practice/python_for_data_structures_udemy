{
 "cells": [
  {
   "cell_type": "code",
   "execution_count": 4,
   "metadata": {},
   "outputs": [
    {
     "name": "stdout",
     "output_type": "stream",
     "text": [
      "Hello\n"
     ]
    }
   ],
   "source": [
    "##Array Sequences\n",
    "\n",
    "anArray = [1,2,3]\n",
    "aTuple = (1,2,3)\n",
    "aString = \"123\"\n",
    "\n",
    "##Bits & Bytes\n",
    "aWord = \"Hello\"\n",
    "\n",
    "#Each Unicode El = 2 Bytes or 16 Bits (8-Bit * 2)\n",
    "print(aWord) #is 10 Byes\n",
    "\n",
    "#Memory Address = start + cellsize(index)"
   ]
  },
  {
   "cell_type": "code",
   "execution_count": 40,
   "metadata": {},
   "outputs": [
    {
     "name": "stdout",
     "output_type": "stream",
     "text": [
      "['L', 'a', 'v', 'e', 'r', 'n', 'e']\n"
     ]
    }
   ],
   "source": [
    "#Array Practice\n",
    "\n",
    "anotherString = \"Laverne\"\n",
    "\n",
    "anotherArray = list(anotherString)\n",
    "\n",
    "print(anotherArray)"
   ]
  },
  {
   "cell_type": "code",
   "execution_count": 21,
   "metadata": {},
   "outputs": [
    {
     "name": "stdout",
     "output_type": "stream",
     "text": [
      "['L', 'a', 'v']\n",
      "['e', 'r', 'n', 'e']\n",
      "['e', 'r']\n",
      "LLLLL\n",
      "aaaaa\n"
     ]
    }
   ],
   "source": [
    "print(anotherArray[:3])\n",
    "print(anotherArray[3:])\n",
    "print(anotherArray[3:5])\n",
    "\n",
    "#Shallow Copies\n",
    "\n",
    "print(anotherArray[0] * 5)\n",
    "print(anotherArray[1] * 5)"
   ]
  },
  {
   "cell_type": "code",
   "execution_count": 26,
   "metadata": {},
   "outputs": [
    {
     "name": "stdout",
     "output_type": "stream",
     "text": [
      "['L', 'a', 'v', 'e', 'r', 'n', 'e', '!']\n"
     ]
    }
   ],
   "source": [
    "anotherArray.append(\"!\")\n",
    "#anotherArray.pop()\n",
    "\n",
    "print(anotherArray)"
   ]
  },
  {
   "cell_type": "code",
   "execution_count": 33,
   "metadata": {},
   "outputs": [
    {
     "name": "stdout",
     "output_type": "stream",
     "text": [
      "['L', 'a', 'v', 'e', 'r', 'n', 'e']\n"
     ]
    }
   ],
   "source": [
    "print(anotherArray)"
   ]
  },
  {
   "cell_type": "code",
   "execution_count": 59,
   "metadata": {},
   "outputs": [
    {
     "name": "stdout",
     "output_type": "stream",
     "text": [
      "['H', 'e', 'l', 'l', 'o']\n"
     ]
    }
   ],
   "source": [
    "helloArray = [\"H\", \"e\", \"l\", \"l\", \"o\"]\n",
    "\n",
    "print(helloArray)"
   ]
  },
  {
   "cell_type": "code",
   "execution_count": 85,
   "metadata": {},
   "outputs": [],
   "source": [
    "#This inserts the helloArray into our anotherArray at the starting indices. Nice.\n",
    "for idx, i in enumerate(helloArray):\n",
    "    anotherArray.insert(idx, i)"
   ]
  },
  {
   "cell_type": "code",
   "execution_count": 87,
   "metadata": {},
   "outputs": [
    {
     "name": "stdout",
     "output_type": "stream",
     "text": [
      "[0, 1, 2, 3, 4, 5, 6, 7, 8, 9]\n"
     ]
    }
   ],
   "source": [
    "thirdArray=list(range(10))\n",
    "print(thirdArray)"
   ]
  },
  {
   "cell_type": "code",
   "execution_count": 56,
   "metadata": {},
   "outputs": [
    {
     "name": "stdout",
     "output_type": "stream",
     "text": [
      "['H', 'e', 'l', 'l', 'o']\n"
     ]
    }
   ],
   "source": [
    "print(helloArray)"
   ]
  },
  {
   "cell_type": "code",
   "execution_count": 57,
   "metadata": {},
   "outputs": [],
   "source": [
    "helloArray.remove('H')"
   ]
  },
  {
   "cell_type": "code",
   "execution_count": 82,
   "metadata": {},
   "outputs": [
    {
     "name": "stdout",
     "output_type": "stream",
     "text": [
      "['H', 'e', 'l', 'l', 'o']\n"
     ]
    }
   ],
   "source": [
    "print(helloArray)"
   ]
  },
  {
   "cell_type": "code",
   "execution_count": 83,
   "metadata": {},
   "outputs": [
    {
     "name": "stdout",
     "output_type": "stream",
     "text": [
      "[0, 1, 2, 3, 4, 5, 6, 7, 8, 9]\n"
     ]
    }
   ],
   "source": [
    "#thirdArray.pop(0)\n",
    "#del thirdArray[0]\n",
    "#del thirdArray[0:9:2]\n",
    "print(thirdArray)"
   ]
  },
  {
   "cell_type": "code",
   "execution_count": 88,
   "metadata": {},
   "outputs": [
    {
     "name": "stdout",
     "output_type": "stream",
     "text": [
      "[0, 1, 2, 3, 4, 5, 6, 7, 8, 9, 10, 11, 12]\n"
     ]
    }
   ],
   "source": [
    "extendArray = [10, 11, 12]\n",
    "thirdArray.extend(extendArray)\n",
    "print(thirdArray)"
   ]
  },
  {
   "cell_type": "code",
   "execution_count": 97,
   "metadata": {},
   "outputs": [
    {
     "name": "stdout",
     "output_type": "stream",
     "text": [
      "[0, 1, 2, 3, 4, 5, 6, 7, 8, 9]\n"
     ]
    }
   ],
   "source": [
    "num = 10\n",
    "emptyArray = []\n",
    "for i in range(num):\n",
    "#     a = len(emptyArray)\n",
    "    emptyArray.append(i)\n",
    "    \n",
    "print(emptyArray)"
   ]
  },
  {
   "cell_type": "code",
   "execution_count": null,
   "metadata": {},
   "outputs": [],
   "source": []
  }
 ],
 "metadata": {
  "kernelspec": {
   "display_name": "Python 3",
   "language": "python",
   "name": "python3"
  },
  "language_info": {
   "codemirror_mode": {
    "name": "ipython",
    "version": 3
   },
   "file_extension": ".py",
   "mimetype": "text/x-python",
   "name": "python",
   "nbconvert_exporter": "python",
   "pygments_lexer": "ipython3",
   "version": "3.7.3"
  }
 },
 "nbformat": 4,
 "nbformat_minor": 2
}
